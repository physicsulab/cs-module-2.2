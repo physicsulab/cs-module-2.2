{
 "cells": [
  {
   "cell_type": "markdown",
   "metadata": {},
   "source": [
    "# Computational Module 2.2: Intermediate Python II"
   ]
  },
  {
   "cell_type": "markdown",
   "metadata": {},
   "source": [
    "Please complete this notebook by filling in the cells provided.\n",
    "\n",
    "For all problems that you must write our explanations and sentences for, you must provide your answer in the designated space. Moreover, throughout this homework and all future ones, please be sure to not re-assign variables throughout the notebook! For example, if you use <code>max_temperature</code> in your answer to one question, do not reassign it later on.\n",
    "\n",
    "Directly sharing answers with your fellow ULAB colleagues is not okay, but discussing problems with your mentors or them is encouraged. You should start early so that you have time to get help if you're stuck! Drop-in office hours will staffed by ULAB computational scientists will be periodically held; please keep an eye on ULAB Slack for more information."
   ]
  },
  {
   "cell_type": "markdown",
   "metadata": {},
   "source": [
    "## Lesson Plan"
   ]
  },
  {
   "cell_type": "markdown",
   "metadata": {},
   "source": [
    "In this lesson, you will...\n",
    "- learn a bit more about dictionaries\n",
    "- apply your new knowledge to a real data set!"
   ]
  },
  {
   "cell_type": "code",
   "execution_count": null,
   "metadata": {},
   "outputs": [],
   "source": [
    "#[[IMPORTANT]] change to your FULL name and run this cell! Otherwise grading won't work!\n",
    "%env grade_name='Name'"
   ]
  },
  {
   "cell_type": "code",
   "execution_count": null,
   "metadata": {},
   "outputs": [],
   "source": [
    "# MAKE SURE TO RUN THIS CELL (It imports the autograder file)\n",
    "!pip install slacker\n",
    "import csModule2"
   ]
  },
  {
   "cell_type": "markdown",
   "metadata": {
    "collapsed": true
   },
   "source": [
    "### Dictionary-specific Methods"
   ]
  },
  {
   "cell_type": "markdown",
   "metadata": {},
   "source": [
    "We went over the definition of dictionaries in Python and basic actions that can be performed on them i.e. adding, removing, or altering key-value pairs, but in this subsection, we will introduce 3 methods that are often useful when attempting to enforce conditions upon keys and values and return pairs that fulfill these conditions: <code>keys()</code>, <code>values()</code>, and <code>items()</code>.\n",
    "\n",
    "As we learned in Module 1, a dictionary in Python looks like the following:"
   ]
  },
  {
   "cell_type": "code",
   "execution_count": 5,
   "metadata": {},
   "outputs": [],
   "source": [
    "random_dict_1 = {\"stars\": 4, \"planets\": 4, 9: [45e2, 345e4, 3544]}"
   ]
  },
  {
   "cell_type": "markdown",
   "metadata": {},
   "source": [
    "Let's review! Can you access the value of a certain key in <code>random_dict_1</code>? If you have trouble with this, please review the <b>Dictionaries</b> section from Module 1!"
   ]
  },
  {
   "cell_type": "code",
   "execution_count": null,
   "metadata": {},
   "outputs": [],
   "source": [
    "random_dict_1[\"stars\"] # insert some key you choose in the ..."
   ]
  },
  {
   "cell_type": "markdown",
   "metadata": {},
   "source": [
    "Run the cell below."
   ]
  },
  {
   "cell_type": "code",
   "execution_count": null,
   "metadata": {},
   "outputs": [],
   "source": [
    "random_dict_1[\"ULAB is the greatest thing since sliced bread!\"] # This key is probably not in your dictionary"
   ]
  },
  {
   "cell_type": "markdown",
   "metadata": {},
   "source": [
    "As you can see from the erroring cell above, if you try to access a key that doesn't exist, the dictionary will return a \"KeyError.\"\n",
    "\n",
    "On another note, dictionaries are <i>mutable</i> data types, which means that you can change its elements. Want to...\n",
    "\n",
    "... change a value that corresponds to a key $k$ to $v$?\n",
    "<code>\n",
    "dict[k] = v\n",
    "</code>\n",
    "\n",
    "... add a new key-value pair ($k, v$) to your dictionary?\n",
    "<code>\n",
    "dict[k] = v\n",
    "</code>\n",
    "\n",
    "... remove a key-value pair ($k, v$) from your dictionary?\n",
    "<code>\n",
    "dict.pop(k, None)\n",
    "</code>\n",
    "\n",
    "Let's continue working with <code>solar_system</code>. What do the below code cells do?"
   ]
  },
  {
   "cell_type": "code",
   "execution_count": 8,
   "metadata": {},
   "outputs": [],
   "source": [
    "solar_system = {\"planets\": [\"Mercury\", \"Venus\", \"Earth\", \"Mars\", \"Jupyter ;)\", \"Saturn\", \"Uranus\", \"Neptune\"], \n",
    "               \"dwarf planets\": [\"Pluto\"],\n",
    "               \"Earth (distance from sun in AUs)\": 1,\n",
    "               \"Sun\": \"main-sequence\"}"
   ]
  },
  {
   "cell_type": "code",
   "execution_count": null,
   "metadata": {},
   "outputs": [],
   "source": [
    "solar_system.keys() # Line 1"
   ]
  },
  {
   "cell_type": "code",
   "execution_count": null,
   "metadata": {},
   "outputs": [],
   "source": [
    "solar_system.values() # Line 2"
   ]
  },
  {
   "cell_type": "code",
   "execution_count": null,
   "metadata": {},
   "outputs": [],
   "source": [
    "solar_system.items() # Line 3"
   ]
  },
  {
   "cell_type": "markdown",
   "metadata": {},
   "source": [
    "Line 1 displays a <code>dict_keys</code> list of all the keys in the dictionary <code>solar_system</code>. Line 2 returns a <code>dict_values</code> list of all the values in the dictionary <code>solar_system</code>. Line 3 is a bit more complex in that it returns a list of pairs (specifically the Python data type <i>tuple</i>). Remember that elements of a tuple can be accessed in the same way that list elements are accessed using the format <code>tuple_ex[index]</code>. From Module 1, we know that a tuple is essentially an immutable list. You cannot edit the elements of a tuple without encountering errors. For example:"
   ]
  },
  {
   "cell_type": "code",
   "execution_count": null,
   "metadata": {},
   "outputs": [],
   "source": [
    "# what does this line do?\n",
    "tuple_ex = (4, 5, \"cats\", \"b\", 45.0)\n",
    "tuple_ex[2]"
   ]
  },
  {
   "cell_type": "code",
   "execution_count": null,
   "metadata": {},
   "outputs": [],
   "source": [
    "# complete this line to access the 5th element in the tuple!\n",
    "tuple_ex[...]"
   ]
  },
  {
   "cell_type": "markdown",
   "metadata": {},
   "source": [
    "Now, we know that line 3 returns a set of tuples in which the first element of each tuple $t$ is the key and the second is the value."
   ]
  },
  {
   "cell_type": "markdown",
   "metadata": {},
   "source": [
    "#### Checkpoint 9"
   ]
  },
  {
   "cell_type": "markdown",
   "metadata": {},
   "source": [
    "What if you want to know if a certain value (in this case, \"main-sequence\") is in the dictionary? Run the following block of code. Does it do what you want it to do? How can you modify it so it answers the question?"
   ]
  },
  {
   "cell_type": "code",
   "execution_count": null,
   "metadata": {},
   "outputs": [],
   "source": [
    "for tup in solar_system.items():\n",
    "    if tup[1] == \"main-sequence\":\n",
    "        print(\"It's here!\")"
   ]
  },
  {
   "cell_type": "code",
   "execution_count": null,
   "metadata": {
    "collapsed": true
   },
   "outputs": [],
   "source": [
    "# no autograder test for this checkpoint!"
   ]
  },
  {
   "cell_type": "markdown",
   "metadata": {},
   "source": [
    "Note that because the <code>.keys()</code>, <code>.values()</code>, <code>.items()</code> methods return list-<i>like</i> objects, you can iterate through them in the same way that you do lists."
   ]
  },
  {
   "cell_type": "markdown",
   "metadata": {},
   "source": [
    "#### Checkpoint 10"
   ]
  },
  {
   "cell_type": "code",
   "execution_count": null,
   "metadata": {},
   "outputs": [],
   "source": [
    "# a trick\n",
    "# what does this line do?\n",
    "\"main-sequence\" in solar_system.values()"
   ]
  },
  {
   "cell_type": "code",
   "execution_count": null,
   "metadata": {
    "collapsed": true
   },
   "outputs": [],
   "source": [
    "# no autograder test for this checkpoint!"
   ]
  },
  {
   "cell_type": "markdown",
   "metadata": {},
   "source": [
    "As can be seen from the above code cell, you don't always need to iterate (although sometimes it can be necessary) through a list (or list-like object) to determine whether or not it contains an item."
   ]
  },
  {
   "cell_type": "markdown",
   "metadata": {},
   "source": [
    "## Exercises"
   ]
  },
  {
   "cell_type": "markdown",
   "metadata": {},
   "source": [
    "For the following questions, we will be examining a database of known exoplanets from <a href = \"exoplanets.org\">this link</a>. "
   ]
  },
  {
   "cell_type": "code",
   "execution_count": 13,
   "metadata": {},
   "outputs": [
    {
     "data": {
      "text/html": [
       "<div>\n",
       "<style scoped>\n",
       "    .dataframe tbody tr th:only-of-type {\n",
       "        vertical-align: middle;\n",
       "    }\n",
       "\n",
       "    .dataframe tbody tr th {\n",
       "        vertical-align: top;\n",
       "    }\n",
       "\n",
       "    .dataframe thead th {\n",
       "        text-align: right;\n",
       "    }\n",
       "</style>\n",
       "<table border=\"1\" class=\"dataframe\">\n",
       "  <thead>\n",
       "    <tr style=\"text-align: right;\">\n",
       "      <th></th>\n",
       "      <th>name</th>\n",
       "      <th>mass(mjupiter)</th>\n",
       "      <th>semimajor_axis(AU)</th>\n",
       "      <th>orbital_period(days)</th>\n",
       "      <th>orbital_eccentricity</th>\n",
       "      <th>omega(deg)</th>\n",
       "      <th>time_of_periastron(jd)</th>\n",
       "      <th>velocity_semiamplitude(m/s)</th>\n",
       "      <th>orbit_reference</th>\n",
       "      <th>orbit_url</th>\n",
       "      <th>first_reference</th>\n",
       "      <th>first_url</th>\n",
       "    </tr>\n",
       "  </thead>\n",
       "  <tbody>\n",
       "    <tr>\n",
       "      <th>1</th>\n",
       "      <td>Kepler-107 d</td>\n",
       "      <td>NaN</td>\n",
       "      <td>0.0780099</td>\n",
       "      <td>7.958203</td>\n",
       "      <td>NaN</td>\n",
       "      <td>90</td>\n",
       "      <td>2454970.79968</td>\n",
       "      <td>NaN</td>\n",
       "      <td>Rowe 2014</td>\n",
       "      <td>http://adsabs.harvard.edu/abs/2014arXiv1402.6534R</td>\n",
       "      <td>Rowe 2014</td>\n",
       "      <td>http://adsabs.harvard.edu/abs/2014arXiv1402.6534R</td>\n",
       "    </tr>\n",
       "    <tr>\n",
       "      <th>2</th>\n",
       "      <td>Kepler-1049 b</td>\n",
       "      <td>NaN</td>\n",
       "      <td>0.0344721</td>\n",
       "      <td>3.27346074</td>\n",
       "      <td>0.0</td>\n",
       "      <td>90</td>\n",
       "      <td>NaN</td>\n",
       "      <td>NaN</td>\n",
       "      <td>Morton 2016</td>\n",
       "      <td>http://adsabs.harvard.edu/abs/2016ApJ...822...86M</td>\n",
       "      <td>Morton 2016</td>\n",
       "      <td>http://adsabs.harvard.edu/abs/2016ApJ...822...86M</td>\n",
       "    </tr>\n",
       "    <tr>\n",
       "      <th>3</th>\n",
       "      <td>Kepler-813 b</td>\n",
       "      <td>NaN</td>\n",
       "      <td>0.13761</td>\n",
       "      <td>19.12947337</td>\n",
       "      <td>0.0</td>\n",
       "      <td>90</td>\n",
       "      <td>NaN</td>\n",
       "      <td>NaN</td>\n",
       "      <td>Morton 2016</td>\n",
       "      <td>http://adsabs.harvard.edu/abs/2016ApJ...822...86M</td>\n",
       "      <td>Morton 2016</td>\n",
       "      <td>http://adsabs.harvard.edu/abs/2016ApJ...822...86M</td>\n",
       "    </tr>\n",
       "    <tr>\n",
       "      <th>4</th>\n",
       "      <td>Kepler-427 b</td>\n",
       "      <td>0.310432</td>\n",
       "      <td>0.091351</td>\n",
       "      <td>10.290994</td>\n",
       "      <td>0.0</td>\n",
       "      <td>90</td>\n",
       "      <td>2454970.02207</td>\n",
       "      <td>29.8</td>\n",
       "      <td>Hebrard 2014</td>\n",
       "      <td>http://adsabs.harvard.edu/abs/2014A%26A...572A...</td>\n",
       "      <td>Borucki 2010</td>\n",
       "      <td>http://adsabs.harvard.edu/abs/2010Sci...327..977B</td>\n",
       "    </tr>\n",
       "    <tr>\n",
       "      <th>5</th>\n",
       "      <td>Kepler-1056 b</td>\n",
       "      <td>NaN</td>\n",
       "      <td>0.185149</td>\n",
       "      <td>27.495606</td>\n",
       "      <td>0.0</td>\n",
       "      <td>90</td>\n",
       "      <td>NaN</td>\n",
       "      <td>NaN</td>\n",
       "      <td>Morton 2016</td>\n",
       "      <td>http://adsabs.harvard.edu/abs/2016ApJ...822...86M</td>\n",
       "      <td>Morton 2016</td>\n",
       "      <td>http://adsabs.harvard.edu/abs/2016ApJ...822...86M</td>\n",
       "    </tr>\n",
       "  </tbody>\n",
       "</table>\n",
       "</div>"
      ],
      "text/plain": [
       "            name mass(mjupiter) semimajor_axis(AU) orbital_period(days)  \\\n",
       "1   Kepler-107 d            NaN          0.0780099             7.958203   \n",
       "2  Kepler-1049 b            NaN          0.0344721           3.27346074   \n",
       "3   Kepler-813 b            NaN            0.13761          19.12947337   \n",
       "4   Kepler-427 b       0.310432           0.091351            10.290994   \n",
       "5  Kepler-1056 b            NaN           0.185149            27.495606   \n",
       "\n",
       "   orbital_eccentricity omega(deg) time_of_periastron(jd)  \\\n",
       "1                   NaN         90          2454970.79968   \n",
       "2                   0.0         90                    NaN   \n",
       "3                   0.0         90                    NaN   \n",
       "4                   0.0         90          2454970.02207   \n",
       "5                   0.0         90                    NaN   \n",
       "\n",
       "  velocity_semiamplitude(m/s) orbit_reference  \\\n",
       "1                         NaN       Rowe 2014   \n",
       "2                         NaN     Morton 2016   \n",
       "3                         NaN     Morton 2016   \n",
       "4                        29.8    Hebrard 2014   \n",
       "5                         NaN     Morton 2016   \n",
       "\n",
       "                                           orbit_url first_reference  \\\n",
       "1  http://adsabs.harvard.edu/abs/2014arXiv1402.6534R       Rowe 2014   \n",
       "2  http://adsabs.harvard.edu/abs/2016ApJ...822...86M     Morton 2016   \n",
       "3  http://adsabs.harvard.edu/abs/2016ApJ...822...86M     Morton 2016   \n",
       "4  http://adsabs.harvard.edu/abs/2014A%26A...572A...    Borucki 2010   \n",
       "5  http://adsabs.harvard.edu/abs/2016ApJ...822...86M     Morton 2016   \n",
       "\n",
       "                                           first_url  \n",
       "1  http://adsabs.harvard.edu/abs/2014arXiv1402.6534R  \n",
       "2  http://adsabs.harvard.edu/abs/2016ApJ...822...86M  \n",
       "3  http://adsabs.harvard.edu/abs/2016ApJ...822...86M  \n",
       "4  http://adsabs.harvard.edu/abs/2010Sci...327..977B  \n",
       "5  http://adsabs.harvard.edu/abs/2016ApJ...822...86M  "
      ]
     },
     "execution_count": 13,
     "metadata": {},
     "output_type": "execute_result"
    }
   ],
   "source": [
    "# Don't worry about the code in the cells until the exercises begin. We'll explain what's going on in CS Module #3!\n",
    "import pandas as pd, math\n",
    "planets_data = pd.read_csv(\"exoplanets.csv\")\n",
    "planets_data.columns = [\"name\", \"mass(mjupiter)\", \"semimajor_axis(AU)\", \"orbital_period(days)\", \n",
    "                        \"orbital_eccentricity\", \"omega(deg)\", \"time_of_periastron(jd)\", \n",
    "                        \"velocity_semiamplitude(m/s)\", \"orbit_reference\", \"orbit_url\", \"first_reference\", \"first_url\"]\n",
    "planets_data.drop(planets_data.index[0], inplace = True)\n",
    "planets_data.head()"
   ]
  },
  {
   "cell_type": "code",
   "execution_count": 50,
   "metadata": {},
   "outputs": [],
   "source": [
    "# this cell converts the columns of the table we're looking at into lists we can use!\n",
    "orbital_ecc = list(planets_data[\"orbital_eccentricity\"])\n",
    "orbital_per = list(planets_data[\"orbital_period(days)\"])\n",
    "semimajor_axis = list(planets_data[\"semimajor_axis(AU)\"])\n",
    "names = list(planets_data[\"name\"])\n",
    "orbit_references = list(planets_data[\"orbit_reference\"])\n",
    "planet_masses = list(planets_data[\"mass(mjupiter)\"])"
   ]
  },
  {
   "cell_type": "markdown",
   "metadata": {},
   "source": [
    "1) You want to find all of the planets with nonzero eccentricities. Write a block of code that outputs the <i>indices</i> of these planets in a list format.\n",
    "\n",
    "You are given the list <code>orbital_ecc</code> which holds various numeric values (mostly in float form, some 0's, and some <code>nan</code>). NaN stands for not a number, and this essentially means that we don't have data regarding the eccentricity of that particular planet. You cannot include NaN indices in your final list of nonzero eccentricities. For this purpose, we have imported the Python math library for you, and you can use the <code>math.isnan(param)</code> function here to check if a certain value is NaN."
   ]
  },
  {
   "cell_type": "code",
   "execution_count": 55,
   "metadata": {},
   "outputs": [],
   "source": [
    "import numpy as np\n",
    "def nonzero_ecc():\n",
    "    # insert your answer for exercise 1 here\n",
    "    planet_indices = []\n",
    "    for i in np.arange(len(orbital_ecc)):\n",
    "        orb = orbital_ecc[i]\n",
    "        if orb != 0.0 and not math.isnan(orb):\n",
    "            planet_indices += [i]\n",
    "    print(planet_indices)\n",
    "    return planet_indices # you should return a list"
   ]
  },
  {
   "cell_type": "code",
   "execution_count": null,
   "metadata": {},
   "outputs": [],
   "source": [
    "# autograder cell: do not alter\n",
    "csModule2.exercise1(nonzero_ecc)"
   ]
  },
  {
   "cell_type": "markdown",
   "metadata": {},
   "source": [
    "2) Do any planets have a semimajor axis $\\geq$ 1 AU? Write a block of code that outputs the names of these planets in a list if there are any that fulfill this requirement. Note that the list <code>semimajor_axis</code> contains all of the data for the magnitude in AU and <code>names</code> contains all of the names of the planets. Both lists may contain NaN objects. Also, all of the data in the list <code>semimajor_axis</code> are in string format, so you can use the <code>float(param)</code> method to convert to a float. \n",
    "\n",
    "<i>Hint</i>: How can you build on top of your answer from the previous problem to find the <i>names</i> of the satisfying planets?"
   ]
  },
  {
   "cell_type": "code",
   "execution_count": null,
   "metadata": {
    "collapsed": true
   },
   "outputs": [],
   "source": [
    "def semi_axis_1():\n",
    "    # insert your answer for exercise 2 here\n",
    "    ...\n",
    "    planet_names = [...]\n",
    "    ...\n",
    "    return planet_names # you should return a list"
   ]
  },
  {
   "cell_type": "code",
   "execution_count": null,
   "metadata": {},
   "outputs": [],
   "source": [
    "# autograder cell: do not alter\n",
    "csModule2.exercise2(semi_axis_1)"
   ]
  },
  {
   "cell_type": "markdown",
   "metadata": {},
   "source": [
    "3) You want to find the first planet with a mass less than 0.03 Jupiter masses. You may use the <code>planet_masses</code> and <code>names</code> lists and keep in mind that some values in the lists may be NaN or <code>None</code>."
   ]
  },
  {
   "cell_type": "code",
   "execution_count": null,
   "metadata": {
    "collapsed": true
   },
   "outputs": [],
   "source": [
    "def less_003():\n",
    "    # insert your answer for exercise 3 here\n",
    "    ...\n",
    "    planet_name = ...\n",
    "    return planet_name # you should return a string with the name of the planet that has a mass less than 0.03Jmasses"
   ]
  },
  {
   "cell_type": "code",
   "execution_count": null,
   "metadata": {},
   "outputs": [],
   "source": [
    "# autograder cell: do not alter\n",
    "csModule2.exercise3(less_003)"
   ]
  },
  {
   "cell_type": "markdown",
   "metadata": {},
   "source": [
    "4) What is the average orbital period of the planets in this database? Remember: average only numerical values. Do not count NaN or None values when dividing by the total number of planets because they are not contributing useful data points. You may use the <code>orbital_per</code> list."
   ]
  },
  {
   "cell_type": "code",
   "execution_count": null,
   "metadata": {},
   "outputs": [],
   "source": [
    "import numpy as np\n",
    "orb_per_array = np.asarray(orbital_per)\n",
    "orbit_nums = [k for k in orb_per_array if '.' in k]\n",
    "#print(len(orbit_nums))\n",
    "\n",
    "def avg_orb_per():\n",
    "    # insert your answer for exercise 4 here\n",
    "    summ = 0\n",
    "    length = 0\n",
    "    not_nan = []\n",
    "    for i in range(len(orbital_per)):\n",
    "        orb = float(orbital_per[i])\n",
    "        if not math.isnan(orb) and orb != None:\n",
    "            summ += orb\n",
    "            length += 1\n",
    "            not_nan += [orb]\n",
    "    avg = summ / length\n",
    "    print(length, len(not_nan))\n",
    "    return avg, np.mean(not_nan) # you should return a numeric value\n",
    "\n",
    "avg_orb_per()"
   ]
  },
  {
   "cell_type": "code",
   "execution_count": null,
   "metadata": {},
   "outputs": [],
   "source": [
    "# autograder cell: do not alter\n",
    "csModule2.exercise4(avg_orb_per)"
   ]
  },
  {
   "cell_type": "markdown",
   "metadata": {},
   "source": [
    "5) <b>Challenge</b>: Who is the most common author of the papers that serve as orbit references for the exoplanets? You may use the <code>orbit_references</code> list to conduct your analysis. Remember to take into account that a planet may not have an orbit reference (in which case the default value would be <code>None</code>)!\n",
    "\n",
    "<i>Hint</i>: You can iterate through the elements of a dictionary by using the method <code>dict_name.items()</code> to create a list-like object with each of the pairs from the dictionary as an element."
   ]
  },
  {
   "cell_type": "code",
   "execution_count": null,
   "metadata": {
    "collapsed": true
   },
   "outputs": [],
   "source": [
    "def most_common_author():\n",
    "    # insert your answer for exercise 5 here\n",
    "    ...\n",
    "    author = ...\n",
    "    return author # you should return a value of type string"
   ]
  },
  {
   "cell_type": "code",
   "execution_count": null,
   "metadata": {},
   "outputs": [],
   "source": [
    "# autograder cell: do not alter\n",
    "csModule2.exercise5(most_common_author)"
   ]
  },
  {
   "cell_type": "code",
   "execution_count": null,
   "metadata": {},
   "outputs": [],
   "source": [
    "# Run all tests at once! You can screenshot the output of this cell and submit to the lab manager.\n",
    "csModule2.test_all(find_max_sum, count_match, partial_factorial, final_list, final_str, new_final_str,\n",
    "                  flatten, original_lst, nonzero_ecc, semi_axis_1, less_003, avg_orb_per)"
   ]
  },
  {
   "cell_type": "markdown",
   "metadata": {},
   "source": [
    "## Summary"
   ]
  },
  {
   "cell_type": "markdown",
   "metadata": {},
   "source": [
    "In this lesson we learned...\n",
    "- what functions, lambdas, and nested functions are, and how to create them\n",
    "- more about Python data structures, specifically lists, strings, and dictionaries, and intricacies about formatting them or type-specific methods\n",
    "- how to construct lists concisely using list comprehensions\n",
    "- how to use the <code>map</code>, <code>filter</code>, and <code>reduce</code> functions to avoid running too many / nested for loops"
   ]
  }
 ],
 "metadata": {
  "kernelspec": {
   "display_name": "Python 3",
   "language": "python",
   "name": "python3"
  },
  "language_info": {
   "codemirror_mode": {
    "name": "ipython",
    "version": 3
   },
   "file_extension": ".py",
   "mimetype": "text/x-python",
   "name": "python",
   "nbconvert_exporter": "python",
   "pygments_lexer": "ipython3",
   "version": "3.7.0"
  }
 },
 "nbformat": 4,
 "nbformat_minor": 2
}
